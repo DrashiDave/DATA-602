{
  "nbformat": 4,
  "nbformat_minor": 0,
  "metadata": {
    "colab": {
      "provenance": [],
      "gpuType": "T4",
      "include_colab_link": true
    },
    "kernelspec": {
      "name": "python3",
      "display_name": "Python 3"
    },
    "language_info": {
      "name": "python"
    },
    "accelerator": "GPU"
  },
  "cells": [
    {
      "cell_type": "markdown",
      "metadata": {
        "id": "view-in-github",
        "colab_type": "text"
      },
      "source": [
        "<a href=\"https://colab.research.google.com/github/DrashiDave/DATA-602/blob/main/Week%20-%2012/AB37815_Week_12.ipynb\" target=\"_parent\"><img src=\"https://colab.research.google.com/assets/colab-badge.svg\" alt=\"Open In Colab\"/></a>"
      ]
    },
    {
      "cell_type": "markdown",
      "source": [
        "#Week 12 Template\n",
        "\n",
        "This template provides code to load the [California housing dataset](https://scikit-learn.org/stable/datasets/real_world.html#california-housing-dataset) from scikit-learn.  In this dataset each observation represents a census block group. The dataset features represent numeric properties of the census block such as the median income, median house age, and average number of bedrooms for the block.  The target variable reflects the median house value for that census block (in hundreds of thousands of dollars).  Refer to the Scikit user guide for details.\n",
        "\n",
        "For this assignment, you will need to build and train a deep (i.e., fully-connected) neural network in Keras that predicts the median house value from the given target variables. Note that this is a regression problem.\n",
        "\n",
        "Your approach should:\n",
        "\n",
        "* Scale the data and perform preprocessing as you see fit.  You may use scikit-learn for preprocessing.\n",
        "* Predict unseen observations (validation and test) with a mean absolute percentage error (MAPE) of less than 25\\%.\n",
        "* Use a `ModelCheckpoint` callback during training to save the weights corresponding to the highest validation MAPE.  (You will need to use the `validation_split` parameter or provide validation data.)\n",
        "* Load the weights from the best model after training\n",
        "* Evaluate the best model against the test dataset\n",
        "\n",
        "To receive full credit, your notebook must show that evaluation of the model on the test dataset yields an MAPE of 25\\% or less.\n"
      ],
      "metadata": {
        "id": "27tXBoZxMB1n"
      }
    },
    {
      "cell_type": "code",
      "execution_count": null,
      "metadata": {
        "id": "yKhXgts9aRf8"
      },
      "outputs": [],
      "source": [
        "from sklearn.datasets import fetch_california_housing\n",
        "from sklearn.model_selection import train_test_split\n",
        "from sklearn.preprocessing import StandardScaler\n",
        "from sklearn.metrics import mean_absolute_percentage_error\n",
        "import numpy as np\n",
        "import tensorflow as tf"
      ]
    },
    {
      "cell_type": "markdown",
      "source": [
        "###**Data loading and splitting**"
      ],
      "metadata": {
        "id": "ta0FnylWpnuc"
      }
    },
    {
      "cell_type": "markdown",
      "source": [
        "For unbiased evaluation, we split data into training and testing sets using 85-15 ratio."
      ],
      "metadata": {
        "id": "8yBFXI5upzYS"
      }
    },
    {
      "cell_type": "code",
      "source": [
        "california_housing = fetch_california_housing(as_frame=False)\n",
        "X = california_housing.data\n",
        "y = california_housing.target\n",
        "X_train, X_test, y_train, y_test = train_test_split(X, y, test_size=0.15)"
      ],
      "metadata": {
        "id": "lg3cQ0CFbHgW"
      },
      "execution_count": null,
      "outputs": []
    },
    {
      "cell_type": "markdown",
      "source": [
        "###**Data Preprocessing**"
      ],
      "metadata": {
        "id": "c0KjI7kbTNsx"
      }
    },
    {
      "cell_type": "markdown",
      "source": [
        "The features are scaled using StandardScaler to normalize them which ensures their capability to the neural network's optimization process."
      ],
      "metadata": {
        "id": "aoWVTwdqpHVh"
      }
    },
    {
      "cell_type": "code",
      "source": [
        "scaler = StandardScaler()\n",
        "X_train_scaled = scaler.fit_transform(X_train)\n",
        "X_test_scaled = scaler.transform(X_test)"
      ],
      "metadata": {
        "id": "WnNtJyUTxQRT"
      },
      "execution_count": null,
      "outputs": []
    },
    {
      "cell_type": "markdown",
      "source": [
        "###**Model Architecture**"
      ],
      "metadata": {
        "id": "oQRFg3XyVMc9"
      }
    },
    {
      "cell_type": "markdown",
      "source": [
        "A fully connected neural network is defined using the Sequential API in TensorFlow/Keras.\n",
        "\n",
        "\n",
        "**Dense layers** are to learn the representations.\n",
        "\n",
        "**BatchNormalization layers** are to stabilize training.\n",
        "\n",
        "**Dropout layers** are to prevent overfitting.\n",
        "\n",
        "The final layer has one unit with a linear activation function for regression."
      ],
      "metadata": {
        "id": "NGfe-NqOqAqC"
      }
    },
    {
      "cell_type": "code",
      "source": [
        "model = tf.keras.Sequential([\n",
        "    tf.keras.layers.Dense(64, activation='relu', input_shape=(X_train.shape[1],)),\n",
        "    tf.keras.layers.BatchNormalization(),\n",
        "    tf.keras.layers.Dropout(0.3),\n",
        "    tf.keras.layers.Dense(32, activation='relu'),\n",
        "    tf.keras.layers.BatchNormalization(),\n",
        "    tf.keras.layers.Dropout(0.2),\n",
        "    tf.keras.layers.Dense(16, activation='relu'),\n",
        "    tf.keras.layers.Dense(1)  # Output layer for regression\n",
        "])"
      ],
      "metadata": {
        "colab": {
          "base_uri": "https://localhost:8080/"
        },
        "id": "oJ-Udb0LTUJ2",
        "outputId": "218f010d-7a0c-4c04-b728-0ddf88aab1df"
      },
      "execution_count": null,
      "outputs": [
        {
          "output_type": "stream",
          "name": "stderr",
          "text": [
            "/usr/local/lib/python3.10/dist-packages/keras/src/layers/core/dense.py:87: UserWarning: Do not pass an `input_shape`/`input_dim` argument to a layer. When using Sequential models, prefer using an `Input(shape)` object as the first layer in the model instead.\n",
            "  super().__init__(activity_regularizer=activity_regularizer, **kwargs)\n"
          ]
        }
      ]
    },
    {
      "cell_type": "markdown",
      "source": [
        "###**Model Compilation**"
      ],
      "metadata": {
        "id": "7fzh7tWCVdDI"
      }
    },
    {
      "cell_type": "markdown",
      "source": [
        "The model is compiled using the Adam optimizer with the learning rate of 0.001.\n",
        "\n",
        "Mean Squared Error (MSE) is the loss function and Mean Absolute Error is the performance metric (MAE)"
      ],
      "metadata": {
        "id": "AmTKneedrFVH"
      }
    },
    {
      "cell_type": "code",
      "source": [
        "model.compile(optimizer=tf.keras.optimizers.Adam(learning_rate=0.001),\n",
        "              loss='mean_squared_error',\n",
        "              metrics=['mae'])"
      ],
      "metadata": {
        "id": "zTYW5FrWVYIp"
      },
      "execution_count": null,
      "outputs": []
    },
    {
      "cell_type": "markdown",
      "source": [
        "###**Model Training Callback**"
      ],
      "metadata": {
        "id": "cqpEKRJOjUup"
      }
    },
    {
      "cell_type": "markdown",
      "source": [
        "The ModelCheckpoint callback is used to save the best-performing model during training based on validation Mean Absolute Error (MAE).\n",
        "\n"
      ],
      "metadata": {
        "id": "l-6fXu8Irg6v"
      }
    },
    {
      "cell_type": "code",
      "source": [
        "checkpoint_callback = tf.keras.callbacks.ModelCheckpoint(\n",
        "    'best_model.keras',\n",
        "    monitor='val_mae',\n",
        "    mode='min',\n",
        "    save_best_only=True,\n",
        "    save_weights_only=False\n",
        ")"
      ],
      "metadata": {
        "id": "6LWcB0wFVfym"
      },
      "execution_count": null,
      "outputs": []
    },
    {
      "cell_type": "markdown",
      "source": [
        "###**Training**"
      ],
      "metadata": {
        "id": "eZXxfFHNkH9p"
      }
    },
    {
      "cell_type": "markdown",
      "source": [
        "The training process runs 100 epochs with a batch size of 32."
      ],
      "metadata": {
        "id": "qzhsmRrEr8S6"
      }
    },
    {
      "cell_type": "code",
      "source": [
        "training_history = model.fit(\n",
        "    X_train_scaled, y_train,\n",
        "    validation_split=0.2,\n",
        "    epochs=100,\n",
        "    batch_size=32,\n",
        "    callbacks=[checkpoint_callback],\n",
        "    verbose=0\n",
        ")"
      ],
      "metadata": {
        "id": "PS4RFNx4kLQ3"
      },
      "execution_count": null,
      "outputs": []
    },
    {
      "cell_type": "markdown",
      "source": [
        "###**Load and evaluate the best model**"
      ],
      "metadata": {
        "id": "y2le7ekclAjA"
      }
    },
    {
      "cell_type": "markdown",
      "source": [
        "The weights of best-performung model are loaded for evaluation on the test dataset.\n",
        "\n",
        "The model is evaluated on test dataset using MAPE. An MAPE value of 25% or less id the goal."
      ],
      "metadata": {
        "id": "tf3ZxLGJsDNx"
      }
    },
    {
      "cell_type": "code",
      "source": [
        "best_model = tf.keras.models.load_model('best_model.keras')\n",
        "\n",
        "y_pred = best_model.predict(X_test_scaled).flatten()\n",
        "mape = mean_absolute_percentage_error(y_test, y_pred)\n",
        "\n",
        "print(f\"Mean Absolute Percentage Error: {mape * 100:.2f}%\")"
      ],
      "metadata": {
        "colab": {
          "base_uri": "https://localhost:8080/"
        },
        "id": "Ksj1XQ1Ik9uM",
        "outputId": "6a4ef9b4-2e29-4df4-8c3f-14d574be690c"
      },
      "execution_count": null,
      "outputs": [
        {
          "output_type": "stream",
          "name": "stdout",
          "text": [
            "\u001b[1m97/97\u001b[0m \u001b[32m━━━━━━━━━━━━━━━━━━━━\u001b[0m\u001b[37m\u001b[0m \u001b[1m0s\u001b[0m 3ms/step\n",
            "Mean Absolute Percentage Error: 20.45%\n"
          ]
        }
      ]
    },
    {
      "cell_type": "markdown",
      "source": [
        "The model achieves MAPE value of 21.60%, which is below the required threshold of 25%. It demonstrate successful prediction of the medan house values."
      ],
      "metadata": {
        "id": "yWI5mqc3sXOa"
      }
    }
  ]
}